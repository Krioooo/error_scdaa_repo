{
 "cells": [
  {
   "cell_type": "code",
   "execution_count": 2,
   "metadata": {},
   "outputs": [],
   "source": [
    "import numpy as np\n",
    "from scipy.integrate import solve_ivp\n",
    "from scipy.integrate import quad\n",
    "import torch\n",
    "# from torchdiffeq import odeint\n",
    "# import matplotlib.pyplot as plt"
   ]
  },
  {
   "cell_type": "code",
   "execution_count": 5,
   "metadata": {},
   "outputs": [
    {
     "name": "stdout",
     "output_type": "stream",
     "text": [
      "Value function v(t, x): tensor(0.8846)\n",
      "Optimal control a(t, x): tensor([-1.4239, -5.0703])\n"
     ]
    },
    {
     "name": "stderr",
     "output_type": "stream",
     "text": [
      "/tmp/ipykernel_4475/2637863321.py:55: DeprecationWarning: __array_wrap__ must accept context and return_scalar arguments (positionally) in the future. (Deprecated NumPy 2.0)\n",
      "  return torch.trace(self.sigma @ self.sigma.T @ S_r)\n",
      "/tmp/ipykernel_4475/2637863321.py:57: IntegrationWarning: The maximum number of subdivisions (50) has been achieved.\n",
      "  If increasing the limit yields no improvement it is advised to analyze \n",
      "  the integrand in order to determine the difficulties.  If the position of a \n",
      "  local difficulty can be determined (singularity, discontinuity) one will \n",
      "  probably gain from splitting up the interval and calling the integrator \n",
      "  on the subranges.  Perhaps a special-purpose integrator should be used.\n",
      "  integral, _ = quad(integrand, t, self.T)  # 使用数值积分计算积分项\n"
     ]
    }
   ],
   "source": [
    "# torch\n",
    "class LQR:\n",
    "    def __init__(self, H, M, C, D, R, sigma, T, time_grid):\n",
    "        \"\"\"\n",
    "        初始化 LQR 类\n",
    "\n",
    "        Parameters:\n",
    "        H, M, C, D, R: 线性二次调节器的矩阵\n",
    "        sigma: 噪声项\n",
    "        T: 终止时间\n",
    "        time_grid: 时间网格 (numpy array)\n",
    "        \"\"\"\n",
    "        self.H = H\n",
    "        self.M = M\n",
    "        self.C = C\n",
    "        self.D = D\n",
    "        self.R = R\n",
    "        self.sigma = sigma\n",
    "        self.T = T\n",
    "        self.time_grid = time_grid\n",
    "        self.S_values = self.solve_riccati_ode()\n",
    "\n",
    "    def riccati_ode(self, t, S_flat):\n",
    "        \"\"\"Riccati ODE 求解函数，转换为向量形式\"\"\"\n",
    "        S = torch.tensor(S_flat, dtype=torch.float32).reshape(2,2) # 2x2 矩阵\n",
    "        S_dot = S @ self.M @ torch.linalg.inv(self.D) @ self.M.T @ S - self.H.T @ S - S @ self.H - self.C\n",
    "        return S_dot.flatten()\n",
    "\n",
    "    def solve_riccati_ode(self):\n",
    "        \"\"\"使用 solve_ivp 求解 Riccati ODE\"\"\"\n",
    "        S_T = self.R.flatten()  # 终止条件 S(T) = R\n",
    "        indices = torch.arange(self.time_grid.size(0) - 1, -1, -1)  # 生成倒序索引\n",
    "        time_grid_re = torch.index_select(self.time_grid, 0, indices)\n",
    "        sol = solve_ivp(self.riccati_ode, [self.T, 0], S_T, t_eval=time_grid_re, atol=1e-10, rtol=1e-10)  # 逆向求解\n",
    "        S_matrices = sol.y.T[::-1].reshape(-1, 2, 2)  # 转换回矩阵格式\n",
    "        return dict(zip(tuple(self.time_grid.tolist()), S_matrices))\n",
    "\n",
    "    def get_nearest_S(self, t):\n",
    "        \"\"\"找到最近的 S(t)\"\"\"\n",
    "        nearest_t = self.time_grid[torch.argmin(torch.abs(self.time_grid - t))]\n",
    "        return self.S_values[nearest_t.tolist()]\n",
    "    \n",
    "    def value_function(self, t, x):\n",
    "        \"\"\"计算新的 v(t, x) = x^T S(t) x + ∫[t,T] tr(σσ^T S(r)) dr\"\"\"\n",
    "        # 第一部分：x^T S(t) x\n",
    "        # print(self.S_values)\n",
    "        S_t = self.get_nearest_S(t)\n",
    "        S_t = torch.tensor(S_t, dtype=torch.float32)\n",
    "        value = x.T @ S_t @ x\n",
    "        # print(value)\n",
    "        \n",
    "        # 第二部分：积分项 ∫[t,T] tr(σσ^T S(r)) dr\n",
    "        def integrand(r):\n",
    "            S_r = self.get_nearest_S(r)\n",
    "            return torch.trace(self.sigma @ self.sigma.T @ S_r)\n",
    "        \n",
    "        integral, _ = quad(integrand, t, self.T)  # 使用数值积分计算积分项\n",
    "        value += integral\n",
    "        return value\n",
    "    \n",
    "    def optimal_control(self, t, x):\n",
    "        \"\"\"计算最优控制 a(t, x) = -D^(-1) M^T S(t) x\"\"\"\n",
    "        S_t = self.get_nearest_S(t)\n",
    "        S_t = torch.tensor(S_t, dtype=torch.float32)\n",
    "        return -torch.linalg.inv(self.D) @ self.M.T @ S_t @ x\n",
    "    \n",
    "# 示例参数\n",
    "H = torch.tensor([[1.0, 1.0], [0.0, 1.0]]) * 0.5\n",
    "M = torch.tensor([[1.0, 1.0], [0.0, 1.0]])\n",
    "sigma = torch.eye(2) * 0.5\n",
    "C = torch.tensor([[1.0, 0.1], [0.1, 1.0]]) * 1.0\n",
    "D = torch.tensor([[1.0, 0.1], [0.1, 1.0]]) * 0.1\n",
    "R = torch.tensor([[1.0, 0.3], [0.3, 1.0]]) * 10.0\n",
    "T = 1.0\n",
    "time_grid = torch.linspace(0, T, 100)\n",
    "\n",
    "# print(R)\n",
    "# 实例化 LQR 类\n",
    "lqr = LQR(H, M, C, D, R, sigma, T, time_grid)\n",
    "# 计算示例\n",
    "t_test = 0\n",
    "x_test = torch.tensor([1.0, 1.0])\n",
    "\n",
    "print(\"Value function v(t, x):\", lqr.value_function(t_test, x_test))\n",
    "print(\"Optimal control a(t, x):\", lqr.optimal_control(t_test, x_test))"
   ]
  }
 ],
 "metadata": {
  "kernelspec": {
   "display_name": "Python 3",
   "language": "python",
   "name": "python3"
  },
  "language_info": {
   "codemirror_mode": {
    "name": "ipython",
    "version": 3
   },
   "file_extension": ".py",
   "mimetype": "text/x-python",
   "name": "python",
   "nbconvert_exporter": "python",
   "pygments_lexer": "ipython3",
   "version": "3.12.1"
  }
 },
 "nbformat": 4,
 "nbformat_minor": 2
}
