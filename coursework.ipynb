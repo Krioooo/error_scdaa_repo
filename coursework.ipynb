{
 "cells": [
  {
   "cell_type": "markdown",
   "metadata": {},
   "source": [
    "# SCDAA Coursework 2024-2025\n",
    "\n",
    "## Exercise 1.1 (Solving LQR using from Ricattic ODE)\n",
    "Write a class which:\n",
    "1. Can be initialised with the matrices specifying the LQR problem and T > 0 and a time grid (numpy array or torch tensor). \n",
    "2. Has a method which will solve (approximate) the associated Ricatti ODE on this time grid. \n",
    "3. Has a method that, given one torch 1d-tensor (for time) and another torch 2d-tensor (for space), will return a 1d-torch tensor the control problem value v(t, x) for the given t, x. If t is not on the time grid use tn which belongs to the grid and is the the nearest to t (or the biggest tn smaller than t). \n",
    "4. Has a method that, given one torch 1d-tensor (for time) and another torch 2d-tensor (for space), will return a 2d-torch tensor with entries being the optimal Markov control function for the given t, x i.e.."
   ]
  },
  {
   "cell_type": "code",
   "execution_count": 1,
   "metadata": {},
   "outputs": [],
   "source": [
    "import numpy as np\n",
    "from scipy.integrate import solve_ivp"
   ]
  },
  {
   "cell_type": "code",
   "execution_count": null,
   "metadata": {},
   "outputs": [],
   "source": [
    "class LQR:\n",
    "    def __init__(self, H, M, C, D, R, sigma, T, time_grid):\n",
    "        \"\"\"\n",
    "        初始化 LQR 类\n",
    "\n",
    "        Parameters:\n",
    "        H, M, C, D, R: 线性二次调节器的矩阵\n",
    "        sigma: 噪声项\n",
    "        T: 终止时间\n",
    "        time_grid: 时间网格 (numpy array)\n",
    "        \"\"\"\n",
    "        self.H = H\n",
    "        self.M = M\n",
    "        self.C = C\n",
    "        self.D = D\n",
    "        self.R = R\n",
    "        self.sigma = sigma\n",
    "        self.T = T\n",
    "        self.time_grid = time_grid\n",
    "        self.S_values = self.solve_riccati_ode()\n",
    "\n",
    "    def riccati_ode(self, t, S_flat):\n",
    "        \"\"\"Riccati ODE 求解函数，转换为向量形式\"\"\"\n",
    "        S = S_flat.reshape(2, 2)  # 2x2 矩阵\n",
    "        S_dot = S @ self.M @ np.linalg.inv(self.D) @ self.M.T @ S - self.H.T @ S - S @ self.H - self.C\n",
    "        return S_dot.flatten()\n",
    "\n",
    "    def solve_riccati_ode(self):\n",
    "        \"\"\"使用 solve_ivp 求解 Riccati ODE\"\"\"\n",
    "        S_T = self.R.flatten()  # 终止条件 S(T) = R\n",
    "        sol = solve_ivp(self.riccati_ode, [self.T, 0], S_T, t_eval=self.time_grid[::-1])  # 逆向求解\n",
    "        S_matrices = sol.y.T[::-1].reshape(-1, 2, 2)  # 转换回矩阵格式\n",
    "        return dict(zip(self.time_grid, S_matrices))\n",
    "\n",
    "    def get_nearest_S(self, t):\n",
    "        \"\"\"找到最近的 S(t)\"\"\"\n",
    "        nearest_t = self.time_grid[np.argmin(np.abs(self.time_grid - t))]\n",
    "        return self.S_values[nearest_t]\n",
    "\n",
    "    def value_function(self, t, x):\n",
    "        \"\"\"计算 v(t, x) = x^T S(t) x\"\"\"\n",
    "        S_t = self.get_nearest_S(t)\n",
    "        return np.dot(x.T, S_t @ x)\n",
    "\n",
    "    def optimal_control(self, t, x):\n",
    "        \"\"\"计算最优控制 a(t, x) = -D^(-1) M^T S(t) x\"\"\"\n",
    "        S_t = self.get_nearest_S(t)\n",
    "        return -np.linalg.inv(self.D) @ self.M.T @ S_t @ x\n",
    "\n",
    "# 示例参数\n",
    "H = np.array([[0, 1], [-1, 0]])\n",
    "M = np.array([[0], [1]])\n",
    "C = np.eye(2)\n",
    "D = np.array([[1]])\n",
    "R = np.eye(2)\n",
    "sigma = np.eye(2) * 0.1\n",
    "T = 1.0\n",
    "time_grid = np.linspace(0, T, 100)\n",
    "\n",
    "# 实例化 LQR 类\n",
    "lqr = LQR(H, M, C, D, R, sigma, T, time_grid)\n",
    "\n",
    "# 计算示例\n",
    "t_test = 0.5\n",
    "x_test = np.array([1, 0])\n",
    "\n",
    "print(\"Value function v(t, x):\", lqr.value_function(t_test, x_test))\n",
    "print(\"Optimal control a(t, x):\", lqr.optimal_control(t_test, x_test))\n"
   ]
  }
 ],
 "metadata": {
  "kernelspec": {
   "display_name": "Python 3",
   "language": "python",
   "name": "python3"
  },
  "language_info": {
   "codemirror_mode": {
    "name": "ipython",
    "version": 3
   },
   "file_extension": ".py",
   "mimetype": "text/x-python",
   "name": "python",
   "nbconvert_exporter": "python",
   "pygments_lexer": "ipython3",
   "version": "3.12.1"
  }
 },
 "nbformat": 4,
 "nbformat_minor": 2
}
