{
 "cells": [
  {
   "cell_type": "markdown",
   "metadata": {},
   "source": [
    "# SCDAA Coursework 2024-2025\n",
    "\n",
    "## Exercise 1.1 (Solving LQR using from Ricattic ODE)\n",
    "Write a class which:\n",
    "1. Can be initialised with the matrices specifying the LQR problem and T > 0 and a time grid (numpy array or torch tensor). \n",
    "2. Has a method which will solve (approximate) the associated Ricatti ODE on this time grid. \n",
    "3. Has a method that, given one torch 1d-tensor (for time) and another torch 2d-tensor (for space), will return a 1d-torch tensor the control problem value v(t, x) for the given t, x. If t is not on the time grid use tn which belongs to the grid and is the the nearest to t (or the biggest tn smaller than t). \n",
    "4. Has a method that, given one torch 1d-tensor (for time) and another torch 2d-tensor (for space), will return a 2d-torch tensor with entries being the optimal Markov control function for the given t, x i.e.."
   ]
  },
  {
   "cell_type": "code",
   "execution_count": 23,
   "metadata": {},
   "outputs": [],
   "source": [
    "import numpy as np\n",
    "from scipy.integrate import solve_ivp\n",
    "from scipy.integrate import quad\n",
    "import torch\n",
    "from torchdiffeq import odeint"
   ]
  },
  {
   "cell_type": "code",
   "execution_count": 25,
   "metadata": {},
   "outputs": [
    {
     "name": "stdout",
     "output_type": "stream",
     "text": [
      "Value function v(t, x): 1.4788762663397266\n",
      "Optimal control a(t, x): [-0.10033745]\n"
     ]
    },
    {
     "name": "stderr",
     "output_type": "stream",
     "text": [
      "/tmp/ipykernel_8167/2828252867.py:51: IntegrationWarning: The maximum number of subdivisions (50) has been achieved.\n",
      "  If increasing the limit yields no improvement it is advised to analyze \n",
      "  the integrand in order to determine the difficulties.  If the position of a \n",
      "  local difficulty can be determined (singularity, discontinuity) one will \n",
      "  probably gain from splitting up the interval and calling the integrator \n",
      "  on the subranges.  Perhaps a special-purpose integrator should be used.\n",
      "  integral, _ = quad(integrand, t, self.T)  # 使用数值积分计算积分项\n"
     ]
    }
   ],
   "source": [
    "class LQR:\n",
    "    def __init__(self, H, M, C, D, R, sigma, T, time_grid):\n",
    "        \"\"\"\n",
    "        初始化 LQR 类\n",
    "\n",
    "        Parameters:\n",
    "        H, M, C, D, R: 线性二次调节器的矩阵\n",
    "        sigma: 噪声项\n",
    "        T: 终止时间\n",
    "        time_grid: 时间网格 (numpy array)\n",
    "        \"\"\"\n",
    "        self.H = H\n",
    "        self.M = M\n",
    "        self.C = C\n",
    "        self.D = D\n",
    "        self.R = R\n",
    "        self.sigma = sigma\n",
    "        self.T = T\n",
    "        self.time_grid = time_grid\n",
    "        self.S_values = self.solve_riccati_ode()\n",
    "\n",
    "    def riccati_ode(self, t, S_flat):\n",
    "        \"\"\"Riccati ODE 求解函数，转换为向量形式\"\"\"\n",
    "        S = S_flat.reshape(2, 2)  # 2x2 矩阵\n",
    "        S_dot = S @ self.M @ np.linalg.inv(self.D) @ self.M.T @ S - self.H.T @ S - S @ self.H - self.C\n",
    "        return S_dot.flatten()\n",
    "\n",
    "    def solve_riccati_ode(self):\n",
    "        \"\"\"使用 solve_ivp 求解 Riccati ODE\"\"\"\n",
    "        S_T = self.R.flatten()  # 终止条件 S(T) = R\n",
    "        sol = solve_ivp(self.riccati_ode, [self.T, 0], S_T, t_eval=self.time_grid[::-1])  # 逆向求解\n",
    "        S_matrices = sol.y.T[::-1].reshape(-1, 2, 2)  # 转换回矩阵格式\n",
    "        return dict(zip(self.time_grid, S_matrices))\n",
    "\n",
    "    def get_nearest_S(self, t):\n",
    "        \"\"\"找到最近的 S(t)\"\"\"\n",
    "        nearest_t = self.time_grid[np.argmin(np.abs(self.time_grid - t))]\n",
    "        return self.S_values[nearest_t]\n",
    "\n",
    "    def value_function(self, t, x):\n",
    "        \"\"\"计算新的 v(t, x) = x^T S(t) x + ∫[t,T] tr(σσ^T S(r)) dr\"\"\"\n",
    "        # 第一部分：x^T S(t) x\n",
    "        S_t = self.get_nearest_S(t)\n",
    "        value = np.dot(x.T, S_t @ x)\n",
    "        \n",
    "        # 第二部分：积分项 ∫[t,T] tr(σσ^T S(r)) dr\n",
    "        def integrand(r):\n",
    "            S_r = self.get_nearest_S(r)\n",
    "            return np.trace(self.sigma @ self.sigma.T @ S_r)\n",
    "        \n",
    "        integral, _ = quad(integrand, t, self.T)  # 使用数值积分计算积分项\n",
    "        value += integral\n",
    "        return value\n",
    "\n",
    "    def optimal_control(self, t, x):\n",
    "        \"\"\"计算最优控制 a(t, x) = -D^(-1) M^T S(t) x\"\"\"\n",
    "        S_t = self.get_nearest_S(t)\n",
    "        return -np.linalg.inv(self.D) @ self.M.T @ S_t @ x\n",
    "# 示例参数\n",
    "H = np.array([[0, 1], [-1, 0]])\n",
    "M = np.array([[0], [1]])\n",
    "C = np.eye(2)\n",
    "D = np.array([[1]])\n",
    "R = np.eye(2)\n",
    "sigma = np.eye(2) * 0.1\n",
    "T = 1.0\n",
    "time_grid = np.linspace(0, T, 100)\n",
    "\n",
    "# 实例化 LQR 类\n",
    "lqr = LQR(H, M, C, D, R, sigma, T, time_grid)\n",
    "\n",
    "# 计算示例\n",
    "t_test = 0.5\n",
    "x_test = np.array([1, 0])\n",
    "\n",
    "print(\"Value function v(t, x):\", lqr.value_function(t_test, x_test))\n",
    "print(\"Optimal control a(t, x):\", lqr.optimal_control(t_test, x_test))"
   ]
  },
  {
   "cell_type": "code",
   "execution_count": 13,
   "metadata": {},
   "outputs": [
    {
     "name": "stdout",
     "output_type": "stream",
     "text": [
      "Value function v(t, x): tensor(1.4596)\n",
      "Optimal control a(t, x): tensor([-0.0970])\n"
     ]
    },
    {
     "name": "stderr",
     "output_type": "stream",
     "text": [
      "/tmp/ipykernel_8167/2579258019.py:11: UserWarning: To copy construct from a tensor, it is recommended to use sourceTensor.clone().detach() or sourceTensor.clone().detach().requires_grad_(True), rather than torch.tensor(sourceTensor).\n",
      "  self.time_grid = torch.tensor(time_grid, device=device)\n",
      "/tmp/ipykernel_8167/2579258019.py:31: UserWarning: The use of `x.T` on tensors of dimension other than 2 to reverse their shape is deprecated and it will throw an error in a future release. Consider `x.mT` to transpose batches of matrices or `x.permute(*torch.arange(x.ndim - 1, -1, -1))` to reverse the dimensions of a tensor. (Triggered internally at ../aten/src/ATen/native/TensorShape.cpp:3683.)\n",
      "  return x.T @ S_t @ x\n"
     ]
    }
   ],
   "source": [
    "class LQR:\n",
    "    def __init__(self, H, M, C, D, R, sigma, T, time_grid, device=\"cpu\"):\n",
    "        self.device = device\n",
    "        self.H = H.to(device)\n",
    "        self.M = M.to(device)\n",
    "        self.C = C.to(device)\n",
    "        self.D = D.to(device)\n",
    "        self.R = R.to(device)\n",
    "        self.sigma = sigma.to(device)\n",
    "        self.T = T\n",
    "        self.time_grid = torch.tensor(time_grid, device=device)\n",
    "        self.S_values = self.solve_riccati_ode()\n",
    "\n",
    "    def riccati_ode(self, t, S_flat):\n",
    "        S = S_flat.view(2, 2)  # 2x2 矩阵\n",
    "        S_dot = S @ self.M @ torch.linalg.inv(self.D) @ self.M.T @ S - self.H.T @ S - S @ self.H - self.C\n",
    "        return S_dot.flatten()\n",
    "\n",
    "    def solve_riccati_ode(self):\n",
    "        S_T = self.R.flatten().to(self.device)  # 终止条件 S(T) = R\n",
    "        sol = odeint(self.riccati_ode, S_T, self.time_grid.flip(0))  # 逆向求解\n",
    "        S_matrices = sol.flip(0).view(-1, 2, 2)  # 转换回矩阵格式\n",
    "        return dict(zip(self.time_grid.tolist(), S_matrices))\n",
    "\n",
    "    def get_nearest_S(self, t):\n",
    "        nearest_t = self.time_grid[torch.argmin(torch.abs(self.time_grid - t))].item()\n",
    "        return self.S_values[nearest_t]\n",
    "\n",
    "    def value_function(self, t, x):\n",
    "        S_t = self.get_nearest_S(t)\n",
    "        return x.T @ S_t @ x\n",
    "\n",
    "    def optimal_control(self, t, x):\n",
    "        S_t = self.get_nearest_S(t)\n",
    "        return -torch.linalg.inv(self.D) @ self.M.T @ S_t @ x\n",
    "\n",
    "# 示例参数\n",
    "device = \"cuda\" if torch.cuda.is_available() else \"cpu\"\n",
    "H = torch.tensor([[0, 1], [-1, 0]], dtype=torch.float32, device=device)\n",
    "M = torch.tensor([[0], [1]], dtype=torch.float32, device=device)\n",
    "C = torch.eye(2, device=device)\n",
    "D = torch.tensor([[1]], dtype=torch.float32, device=device)\n",
    "R = torch.eye(2, device=device)\n",
    "sigma = torch.eye(2, device=device) * 0.1\n",
    "T = 1.0\n",
    "time_grid = torch.linspace(0, T, 100, device=device)\n",
    "\n",
    "# 实例化 LQR 类\n",
    "lqr = LQR(H, M, C, D, R, sigma, T, time_grid, device=device)\n",
    "\n",
    "# 计算示例\n",
    "t_test = torch.tensor(0.5, device=device)\n",
    "x_test = torch.tensor([1, 0], dtype=torch.float32, device=device)\n",
    "\n",
    "print(\"Value function v(t, x):\", lqr.value_function(t_test, x_test))\n",
    "print(\"Optimal control a(t, x):\", lqr.optimal_control(t_test, x_test))\n"
   ]
  }
 ],
 "metadata": {
  "kernelspec": {
   "display_name": "Python 3",
   "language": "python",
   "name": "python3"
  },
  "language_info": {
   "codemirror_mode": {
    "name": "ipython",
    "version": 3
   },
   "file_extension": ".py",
   "mimetype": "text/x-python",
   "name": "python",
   "nbconvert_exporter": "python",
   "pygments_lexer": "ipython3",
   "version": "3.12.1"
  }
 },
 "nbformat": 4,
 "nbformat_minor": 2
}
